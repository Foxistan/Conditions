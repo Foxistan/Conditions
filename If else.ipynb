{
 "cells": [
  {
   "cell_type": "code",
   "execution_count": 106,
   "id": "606404b8-b7bf-4893-a837-4932d9316e05",
   "metadata": {},
   "outputs": [
    {
     "name": "stdout",
     "output_type": "stream",
     "text": [
      "This will execute if a is not greater than 10\n"
     ]
    }
   ],
   "source": [
    "a = 10\n",
    "if a > 10:\n",
    "    print('This will execute once a is greater than 10')\n",
    "else:\n",
    "    print('This will execute if a is not greater than 10')"
   ]
  },
  {
   "cell_type": "code",
   "execution_count": 107,
   "id": "30d4cbd7-e5bf-4519-937f-c9c4b676b0ef",
   "metadata": {},
   "outputs": [
    {
     "name": "stdout",
     "output_type": "stream",
     "text": [
      "This will execute if a is greater than equal to 10\n"
     ]
    }
   ],
   "source": [
    "if a >= 10:\n",
    "    print('This will execute if a is greater than equal to 10')\n",
    "elif a <= 10:\n",
    "    print('This is also correct value')\n",
    "else:\n",
    "    print('Trying few possibilities')"
   ]
  },
  {
   "cell_type": "code",
   "execution_count": 108,
   "id": "88070012-0040-4de0-b734-61f269822ece",
   "metadata": {},
   "outputs": [],
   "source": [
    "b = 40"
   ]
  },
  {
   "cell_type": "code",
   "execution_count": 111,
   "id": "6b0e775f-26db-4e6e-8f10-9ff802c21aa5",
   "metadata": {},
   "outputs": [
    {
     "name": "stdin",
     "output_type": "stream",
     "text": [
      "Value for b would be 2\n"
     ]
    },
    {
     "name": "stdout",
     "output_type": "stream",
     "text": [
      "This will execute if b is not equal to 40\n"
     ]
    }
   ],
   "source": [
    "b = int(input('Value for b would be'))\n",
    "if  b != 40:\n",
    "    print('This will execute if b is not equal to 40')\n",
    "elif b >= 40:\n",
    "    print('Thus will execute if b is greater than euqal to 40')\n",
    "elif b==40:\n",
    "    print ('This is correct value but it wont execute because it already got the true value before')"
   ]
  },
  {
   "cell_type": "code",
   "execution_count": null,
   "id": "3a136ee5-6b5a-4383-ad7a-fd94ab77814c",
   "metadata": {},
   "outputs": [],
   "source": []
  }
 ],
 "metadata": {
  "kernelspec": {
   "display_name": "Python 3 (ipykernel)",
   "language": "python",
   "name": "python3"
  },
  "language_info": {
   "codemirror_mode": {
    "name": "ipython",
    "version": 3
   },
   "file_extension": ".py",
   "mimetype": "text/x-python",
   "name": "python",
   "nbconvert_exporter": "python",
   "pygments_lexer": "ipython3",
   "version": "3.10.8"
  }
 },
 "nbformat": 4,
 "nbformat_minor": 5
}
