{
 "cells": [
  {
   "cell_type": "code",
   "execution_count": 28,
   "id": "a7620c69-e431-4bc7-a688-457f6654e350",
   "metadata": {},
   "outputs": [
    {
     "name": "stdout",
     "output_type": "stream",
     "text": [
      "1\n",
      "2\n",
      "3\n",
      "4\n",
      "5\n",
      "6\n",
      "7\n",
      "8\n",
      "9\n"
     ]
    }
   ],
   "source": [
    "a = 10\n",
    "b = 1\n",
    "\n",
    "while b < a :\n",
    "    print(b)\n",
    "    b = b + 1"
   ]
  },
  {
   "cell_type": "code",
   "execution_count": 35,
   "id": "6e8a3e22-c570-4d37-ac38-e54eb8a14e91",
   "metadata": {},
   "outputs": [
    {
     "name": "stdout",
     "output_type": "stream",
     "text": [
      "1\n",
      "2\n",
      "3\n",
      "4\n",
      "5\n",
      "6\n",
      "7\n",
      "8\n",
      "9\n",
      "This will execute once \"while\" will finish looping\n"
     ]
    }
   ],
   "source": [
    "a = 10\n",
    "b = 1\n",
    "\n",
    "while b < a :\n",
    "    print(b)\n",
    "    b = b + 1\n",
    "else:\n",
    "    print('This will execute once \"while\" will finish looping')"
   ]
  },
  {
   "cell_type": "code",
   "execution_count": 36,
   "id": "978f9f6c-488b-431e-b928-6df2db2b5420",
   "metadata": {},
   "outputs": [
    {
     "name": "stdout",
     "output_type": "stream",
     "text": [
      "1\n",
      "2\n",
      "3\n",
      "4\n",
      "5\n",
      "6\n",
      "7\n"
     ]
    }
   ],
   "source": [
    "a = 10\n",
    "b = 1\n",
    "\n",
    "while b < a :\n",
    "    print(b)\n",
    "    b = b + 1\n",
    "    if b == 8:\n",
    "        break\n",
    "else:\n",
    "    print('This will execute once while will finish looping')"
   ]
  },
  {
   "cell_type": "code",
   "execution_count": 41,
   "id": "f9fc36da-e07f-4c1a-9c87-52e084502442",
   "metadata": {},
   "outputs": [
    {
     "name": "stdout",
     "output_type": "stream",
     "text": [
      "2\n",
      "3\n",
      "4\n",
      "5\n",
      "6\n",
      "7\n",
      "9\n",
      "10\n",
      "This will execute once while will finish looping\n"
     ]
    }
   ],
   "source": [
    "a = 10\n",
    "b = 1\n",
    "\n",
    "while b < a :\n",
    "    \n",
    "    b = b + 1\n",
    "    if b == 8:\n",
    "        continue\n",
    "    print(b) \n",
    "else:\n",
    "    print('This will execute once while will finish looping')"
   ]
  }
 ],
 "metadata": {
  "kernelspec": {
   "display_name": "Python 3 (ipykernel)",
   "language": "python",
   "name": "python3"
  },
  "language_info": {
   "codemirror_mode": {
    "name": "ipython",
    "version": 3
   },
   "file_extension": ".py",
   "mimetype": "text/x-python",
   "name": "python",
   "nbconvert_exporter": "python",
   "pygments_lexer": "ipython3",
   "version": "3.10.8"
  }
 },
 "nbformat": 4,
 "nbformat_minor": 5
}
