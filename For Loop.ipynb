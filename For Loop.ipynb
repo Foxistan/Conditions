{
 "cells": [
  {
   "cell_type": "code",
   "execution_count": 7,
   "id": "4392e211-b827-4092-8d7f-bf906b0c9537",
   "metadata": {},
   "outputs": [],
   "source": [
    "a = \"Foxistan\""
   ]
  },
  {
   "cell_type": "code",
   "execution_count": 13,
   "id": "063b5f53-93cb-4068-836d-91fbcb3e82ff",
   "metadata": {},
   "outputs": [
    {
     "name": "stdout",
     "output_type": "stream",
     "text": [
      "F\n",
      "o\n",
      "x\n",
      "i\n",
      "s\n",
      "t\n",
      "a\n",
      "n\n"
     ]
    }
   ],
   "source": [
    "for m in a :\n",
    "    print(m)"
   ]
  },
  {
   "cell_type": "code",
   "execution_count": 16,
   "id": "30f3ad34-d5a0-4bf9-bad4-47aa4b4393df",
   "metadata": {},
   "outputs": [],
   "source": [
    "a2 = (\"foxistan\", 2, 6, 9, 15.72, 69.69j)"
   ]
  },
  {
   "cell_type": "code",
   "execution_count": 43,
   "id": "24fc8108-e07c-4698-9701-7470094ef17d",
   "metadata": {},
   "outputs": [
    {
     "name": "stdout",
     "output_type": "stream",
     "text": [
      "foxistan\n",
      "2\n",
      "6\n",
      "9\n"
     ]
    }
   ],
   "source": [
    "for x in a2:\n",
    "    print(x)\n",
    "    if x == 9:\n",
    "        break\n",
    "else:\n",
    "    print('This will execute once for loop finished itself successfully')"
   ]
  }
 ],
 "metadata": {
  "kernelspec": {
   "display_name": "Python 3 (ipykernel)",
   "language": "python",
   "name": "python3"
  },
  "language_info": {
   "codemirror_mode": {
    "name": "ipython",
    "version": 3
   },
   "file_extension": ".py",
   "mimetype": "text/x-python",
   "name": "python",
   "nbconvert_exporter": "python",
   "pygments_lexer": "ipython3",
   "version": "3.10.8"
  }
 },
 "nbformat": 4,
 "nbformat_minor": 5
}
